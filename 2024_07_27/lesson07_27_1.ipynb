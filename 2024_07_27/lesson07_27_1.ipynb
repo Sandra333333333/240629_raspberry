{
 "cells": [
  {
   "cell_type": "code",
   "execution_count": 1,
   "metadata": {},
   "outputs": [
    {
     "name": "stdout",
     "output_type": "stream",
     "text": [
      "\n",
      "12 12.0 12.0 abc efg\n",
      "12,12.0,12.0,abc,efg\n",
      "12,12.0,12.0,abc,efg.\n"
     ]
    }
   ],
   "source": [
    "print()\n",
    "print(12,12.0,'12.0','abc',\"efg\")\n",
    "print(12,12.0,'12.0','abc',\"efg\",sep=',')\n",
    "print(12,12.0,'12.0','abc',\"efg\",sep=',',end='.\\n')"
   ]
  },
  {
   "cell_type": "code",
   "execution_count": 2,
   "metadata": {},
   "outputs": [
    {
     "name": "stdout",
     "output_type": "stream",
     "text": [
      "sandra 100 122 88\n",
      "<class 'str'>\n"
     ]
    }
   ],
   "source": [
    "name = 'sandra'\n",
    "chinese = 100\n",
    "english = 122\n",
    "math = 88\n",
    "print(name,chinese,english,math)\n",
    "print(type(name))\n",
    "print(type(chinese))\n",
    "print(type(english))\n",
    "\n"
   ]
  },
  {
   "cell_type": "code",
   "execution_count": 3,
   "metadata": {},
   "outputs": [
    {
     "data": {
      "text/plain": [
       "9"
      ]
     },
     "execution_count": 3,
     "metadata": {},
     "output_type": "execute_result"
    }
   ],
   "source": [
    "import random\n",
    "\n",
    "randnum = random.randint(1,10)\n",
    "randnum"
   ]
  },
  {
   "cell_type": "code",
   "execution_count": 5,
   "metadata": {},
   "outputs": [
    {
     "name": "stdout",
     "output_type": "stream",
     "text": [
      "13\n",
      "27\n",
      "53\n",
      "80\n",
      "2\n",
      "1\n"
     ]
    }
   ],
   "source": [
    "#數字運算\n",
    "print(5 + 8)\n",
    "print(3 ** 3)\n",
    "print(3 + 5 * 10)\n",
    "print((3 + 5) * 10)\n",
    "print(7 // 3)\n",
    "print(7 % 3)"
   ]
  }
 ],
 "metadata": {
  "kernelspec": {
   "display_name": "venv1",
   "language": "python",
   "name": "python3"
  },
  "language_info": {
   "codemirror_mode": {
    "name": "ipython",
    "version": 3
   },
   "file_extension": ".py",
   "mimetype": "text/x-python",
   "name": "python",
   "nbconvert_exporter": "python",
   "pygments_lexer": "ipython3",
   "version": "3.11.2"
  }
 },
 "nbformat": 4,
 "nbformat_minor": 2
}
